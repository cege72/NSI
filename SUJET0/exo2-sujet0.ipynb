{
 "cells": [
  {
   "cell_type": "markdown",
   "metadata": {},
   "source": [
    "# Programmation dynamique et mémoïsation"
   ]
  },
  {
   "cell_type": "markdown",
   "metadata": {},
   "source": [
    "# 1. Problème du sujet 0 : \n",
    "Trouver la somme maximum qu'on peut atteindre en traversant les cellules d'un tableau d'entiers à 2 dimensions en n'autorisant que des déplacements vers la droite ou vers le bas. La cellule de départ est le coin supérieur gauche, et la cellule d'arrivée est le coin inférieur droit."
   ]
  },
  {
   "cell_type": "code",
   "execution_count": null,
   "metadata": {},
   "outputs": [],
   "source": [
    "T = [[4, 1, 1, 3],\n",
    "     [2, 0, 2, 1],\n",
    "     [3, 1, 5, 1]]"
   ]
  },
  {
   "cell_type": "markdown",
   "metadata": {},
   "source": [
    "Parcours idéal de l'exemple : 4 - 2 - 3 - 1 - 5 - 1 : somme = 16"
   ]
  },
  {
   "cell_type": "markdown",
   "metadata": {},
   "source": [
    "## Solution récursive :\n",
    "Solution récurisve naive telle que proposée dans le sujet 0 de NSI."
   ]
  },
  {
   "cell_type": "code",
   "execution_count": null,
   "metadata": {},
   "outputs": [],
   "source": [
    "def somme_max(T, i, j):\n",
    "    if i == j == 0:\n",
    "        return T[i][j]\n",
    "    elif i == 0:\n",
    "        return T[0][j] + somme_max(T, 0, j-1)\n",
    "    elif j == 0:\n",
    "        return T[i][0] + somme_max(T, i-1, 0)\n",
    "    else:\n",
    "        return T[i][j] + max(somme_max(T, i-1, j), somme_max(T, i, j-1))"
   ]
  },
  {
   "cell_type": "code",
   "execution_count": null,
   "metadata": {},
   "outputs": [],
   "source": [
    "somme_max(T, 2, 3)"
   ]
  },
  {
   "cell_type": "markdown",
   "metadata": {},
   "source": [
    "**Problème** : on *re-calcule beaucoup de choses* ! **Très lourd en mémoire et la pile de récursion risque vite d'exploser**."
   ]
  },
  {
   "cell_type": "markdown",
   "metadata": {},
   "source": [
    "## Approche récursive avec mémoïsation (bottom-down)\n",
    "L'idée est de **stocker dans un tableau annexe toutes les valeurs déjà calculées** une fois pour ne pas recommencer !\n",
    "\n",
    "**On conserve l'approche descendante de la récursivité** : la solution globale fait appel au fur et à mesure au solutions des sous-problèmes (en vérifiant si une valeur n'a pas déjà été mémorisée avant de se lancer dans le calcul récursif)."
   ]
  },
  {
   "cell_type": "code",
   "execution_count": 4,
   "metadata": {},
   "outputs": [],
   "source": [
    "def somme_max_memo(T, i, j):\n",
    "    def sm(T, i, j):\n",
    "        if i == j == 0:\n",
    "            pass\n",
    "        elif i == 0:\n",
    "            if memoire[0][j-1] is not None:\n",
    "                memoire[0][j] = T[0][j] + memoire[0][j-1]\n",
    "            else:\n",
    "                memoire[0][j] = T[0][j] + sm(T, 0, j-1)\n",
    "        elif j == 0:\n",
    "            if memoire[i-1][0] is not None:\n",
    "                memoire[i][0] = T[i][0] + memoire[i-1][0]\n",
    "            else:\n",
    "                memoire[i][0] = T[i][0] + sm(T, i-1, 0)\n",
    "        else:\n",
    "            gauche, haut = memoire[i][j-1], memoire[i-1][j]\n",
    "            if gauche is not None and haut is not None:\n",
    "                memoire[i][j] = T[i][j] + max(gauche, haut)\n",
    "            elif gauche is not None:\n",
    "                memoire[i][j] = T[i][j] + max(gauche, sm(T, i-1, j))\n",
    "            elif haut is not None:\n",
    "                memoire[i][j] = T[i][j] + max(sm(T, i, j-1), haut)\n",
    "            else:\n",
    "                memoire[i][j] = T[i][j] + max(sm(T, i, j-1), sm(T, i-1, j))\n",
    "        return memoire[i][j]\n",
    "    \n",
    "    memoire = [[None for _ in range(len(T[0]))] for _ in range(len(T))]\n",
    "    memoire[0][0] = T[0][0]\n",
    "    return sm(T, i, j)"
   ]
  },
  {
   "cell_type": "code",
   "execution_count": 5,
   "metadata": {},
   "outputs": [
    {
     "data": {
      "text/plain": [
       "16"
      ]
     },
     "execution_count": 5,
     "metadata": {},
     "output_type": "execute_result"
    }
   ],
   "source": [
    "somme_max_memo(T, 2, 3)"
   ]
  },
  {
   "cell_type": "markdown",
   "metadata": {},
   "source": [
    "## Approche par la programmation dynamique\n",
    "L'**approche ascendante de la programmation dynamique** consiste à construire **de façon itérative** les **solutions des sous-problèmes** pour atteindre la solution globale qui combine ces sous-problèmes."
   ]
  },
  {
   "cell_type": "code",
   "execution_count": 6,
   "metadata": {},
   "outputs": [],
   "source": [
    "def somme_max_dyn(T, i, j):    \n",
    "    memoire = [[T[i][j] for j in range(len(T[0]))] for i in range(len(T))]\n",
    "    for j in range(1, len(T[0])):\n",
    "        memoire[0][j] = T[0][j] + memoire[0][j-1]\n",
    "    for i in range(1, len(T)):\n",
    "        memoire[i][0] = T[i][0] + memoire[i-1][0]\n",
    "    for i in range(1, len(T)):\n",
    "        for j in range(1, len(T[0])):\n",
    "            memoire[i][j] = T[i][j] + max(memoire[i-1][j], memoire[i][j-1])\n",
    "    return memoire[i][j]"
   ]
  },
  {
   "cell_type": "code",
   "execution_count": 7,
   "metadata": {},
   "outputs": [
    {
     "data": {
      "text/plain": [
       "16"
      ]
     },
     "execution_count": 7,
     "metadata": {},
     "output_type": "execute_result"
    }
   ],
   "source": [
    "somme_max_dyn(T, 2, 3)"
   ]
  },
  {
   "cell_type": "markdown",
   "metadata": {},
   "source": [
    "## Simplification possible : optimisation de la mémoire\n",
    "Il est possible de ne conserver la mémoire que d'une ligne à la fois."
   ]
  },
  {
   "cell_type": "code",
   "execution_count": 8,
   "metadata": {},
   "outputs": [],
   "source": [
    "def somme_max_dyn_opt(T, i, j):    \n",
    "    ligne = [T[0][j] for j in range(len(T[0]))]\n",
    "    for j in range(1, len(T[0])):\n",
    "        ligne[j] = T[0][j] + ligne[j-1]\n",
    "    for i in range(1, len(T)):\n",
    "        ligne[0] = ligne[0] + T[i][0]\n",
    "        for j in range(1, len(T[0])):\n",
    "            ligne[j] = T[i][j] + max(ligne[j-1], ligne[j])\n",
    "    return ligne[-1]"
   ]
  },
  {
   "cell_type": "code",
   "execution_count": 9,
   "metadata": {},
   "outputs": [
    {
     "data": {
      "text/plain": [
       "16"
      ]
     },
     "execution_count": 9,
     "metadata": {},
     "output_type": "execute_result"
    }
   ],
   "source": [
    "somme_max_dyn_opt(T, 2, 3)"
   ]
  },
  {
   "cell_type": "markdown",
   "metadata": {},
   "source": [
    "# Voir la durée pour un tableau plus grand.\n",
    "On propose un tableau de 10 lignes et 20 colonnes, de nombre aléaoires entre 1 et 9."
   ]
  },
  {
   "cell_type": "code",
   "execution_count": 10,
   "metadata": {},
   "outputs": [],
   "source": [
    "from random import randint"
   ]
  },
  {
   "cell_type": "code",
   "execution_count": 11,
   "metadata": {},
   "outputs": [
    {
     "name": "stdout",
     "output_type": "stream",
     "text": [
      "3  1  7  1  7  3  5  3  1  5  1  9  4  4  6  7  5  2  1  5  \n",
      "6  3  6  3  9  9  2  4  3  4  5  7  8  7  9  8  1  7  3  4  \n",
      "9  7  5  6  7  5  6  2  4  3  9  1  8  1  4  8  1  2  3  3  \n",
      "1  1  9  3  7  7  4  8  9  1  4  3  2  8  5  2  5  1  6  1  \n",
      "7  8  7  6  6  8  9  1  5  2  5  7  3  8  7  9  5  8  4  6  \n",
      "4  9  7  9  7  8  2  8  4  3  5  2  5  8  4  8  5  9  3  6  \n",
      "5  9  6  6  9  5  4  5  1  9  6  6  9  6  6  2  3  3  2  3  \n",
      "8  7  7  5  5  3  9  1  2  5  8  4  4  8  1  9  7  6  2  4  \n",
      "5  4  9  1  2  1  2  7  5  7  4  2  8  2  7  5  9  3  4  7  \n",
      "4  9  4  3  4  5  1  4  2  1  9  4  2  2  6  6  6  4  8  9  \n"
     ]
    }
   ],
   "source": [
    "i, j = 10, 20\n",
    "T = [[randint(1, 9) for _ in range(j)] for _ in range(i)]\n",
    "\n",
    "for i in range(len(T)):\n",
    "    for j in range(len(T[0])):\n",
    "        print(T[i][j], end = '  ')\n",
    "    print()"
   ]
  },
  {
   "cell_type": "code",
   "execution_count": 12,
   "metadata": {},
   "outputs": [
    {
     "data": {
      "text/plain": [
       "191"
      ]
     },
     "execution_count": 12,
     "metadata": {},
     "output_type": "execute_result"
    }
   ],
   "source": [
    "somme_max_dyn(T, i, j)"
   ]
  },
  {
   "cell_type": "code",
   "execution_count": 13,
   "metadata": {},
   "outputs": [
    {
     "data": {
      "text/plain": [
       "191"
      ]
     },
     "execution_count": 13,
     "metadata": {},
     "output_type": "execute_result"
    }
   ],
   "source": [
    "somme_max_dyn_opt(T, i, j)"
   ]
  },
  {
   "cell_type": "code",
   "execution_count": 14,
   "metadata": {},
   "outputs": [
    {
     "data": {
      "text/plain": [
       "191"
      ]
     },
     "execution_count": 14,
     "metadata": {},
     "output_type": "execute_result"
    }
   ],
   "source": [
    "somme_max_memo(T, i, j)"
   ]
  },
  {
   "cell_type": "code",
   "execution_count": 15,
   "metadata": {},
   "outputs": [
    {
     "data": {
      "text/plain": [
       "191"
      ]
     },
     "execution_count": 15,
     "metadata": {},
     "output_type": "execute_result"
    }
   ],
   "source": [
    "somme_max(T, i, j) # on sent passer le temps..."
   ]
  },
  {
   "cell_type": "markdown",
   "metadata": {},
   "source": [
    "# Complément : Algo glouton\n",
    "On propose une solution par algorithme glouton : pas forcément optimale !\n",
    "Le critère local d'optimisation retenu est de s'orienter vers la cellule la plus \"grosse\" à chaque carrefour."
   ]
  },
  {
   "cell_type": "code",
   "execution_count": 16,
   "metadata": {},
   "outputs": [],
   "source": [
    "def somme_max_glouton(T, i, j):\n",
    "    s = T[0][0]\n",
    "    m, n = 0, 0\n",
    "    while (n != len(T) - 1) or (m != len(T[0]) - 1):\n",
    "        if m == len(T[0]) - 1:\n",
    "            n += 1\n",
    "        elif n == len(T) - 1:\n",
    "            m += 1\n",
    "        elif T[n][m+1] > T[n+1][m]:\n",
    "            m += 1\n",
    "        else:\n",
    "            n += 1\n",
    "        s += T[n][m]\n",
    "    return s"
   ]
  },
  {
   "cell_type": "markdown",
   "metadata": {},
   "source": [
    "## Cas où l'algo glouton fonctionne (coup de bol !)"
   ]
  },
  {
   "cell_type": "code",
   "execution_count": 17,
   "metadata": {},
   "outputs": [
    {
     "name": "stdout",
     "output_type": "stream",
     "text": [
      "16\n"
     ]
    }
   ],
   "source": [
    "T = [[4, 1, 1, 3],\n",
    "     [2, 0, 2, 1],\n",
    "     [3, 1, 5, 1]]\n",
    "\n",
    "i, j = len(T), len(T[0])\n",
    "print(somme_max_glouton(T, i, j))\n",
    "assert  somme_max_glouton(T, i, j) == somme_max_dyn_opt(T, i, j)"
   ]
  },
  {
   "cell_type": "markdown",
   "metadata": {},
   "source": [
    "## Cas où l'algo glouton ne fonctionne pas (ben c'est pas étonnant qu'il y ait des échecs...)"
   ]
  },
  {
   "cell_type": "code",
   "execution_count": 18,
   "metadata": {},
   "outputs": [
    {
     "name": "stdout",
     "output_type": "stream",
     "text": [
      "16\n"
     ]
    },
    {
     "ename": "AssertionError",
     "evalue": "",
     "output_type": "error",
     "traceback": [
      "\u001b[0;31m---------------------------------------------------------------------------\u001b[0m",
      "\u001b[0;31mAssertionError\u001b[0m                            Traceback (most recent call last)",
      "\u001b[0;32m<ipython-input-18-6d239c3361ad>\u001b[0m in \u001b[0;36m<module>\u001b[0;34m\u001b[0m\n\u001b[1;32m      5\u001b[0m \u001b[0mi\u001b[0m\u001b[0;34m,\u001b[0m \u001b[0mj\u001b[0m \u001b[0;34m=\u001b[0m \u001b[0mlen\u001b[0m\u001b[0;34m(\u001b[0m\u001b[0mT\u001b[0m\u001b[0;34m)\u001b[0m\u001b[0;34m,\u001b[0m \u001b[0mlen\u001b[0m\u001b[0;34m(\u001b[0m\u001b[0mT\u001b[0m\u001b[0;34m[\u001b[0m\u001b[0;36m0\u001b[0m\u001b[0;34m]\u001b[0m\u001b[0;34m)\u001b[0m\u001b[0;34m\u001b[0m\u001b[0;34m\u001b[0m\u001b[0m\n\u001b[1;32m      6\u001b[0m \u001b[0mprint\u001b[0m\u001b[0;34m(\u001b[0m\u001b[0msomme_max_glouton\u001b[0m\u001b[0;34m(\u001b[0m\u001b[0mT\u001b[0m\u001b[0;34m,\u001b[0m \u001b[0mi\u001b[0m\u001b[0;34m,\u001b[0m \u001b[0mj\u001b[0m\u001b[0;34m)\u001b[0m\u001b[0;34m)\u001b[0m\u001b[0;34m\u001b[0m\u001b[0;34m\u001b[0m\u001b[0m\n\u001b[0;32m----> 7\u001b[0;31m \u001b[0;32massert\u001b[0m  \u001b[0msomme_max_glouton\u001b[0m\u001b[0;34m(\u001b[0m\u001b[0mT\u001b[0m\u001b[0;34m,\u001b[0m \u001b[0mi\u001b[0m\u001b[0;34m,\u001b[0m \u001b[0mj\u001b[0m\u001b[0;34m)\u001b[0m \u001b[0;34m==\u001b[0m \u001b[0msomme_max_dyn_opt\u001b[0m\u001b[0;34m(\u001b[0m\u001b[0mT\u001b[0m\u001b[0;34m,\u001b[0m \u001b[0mi\u001b[0m\u001b[0;34m,\u001b[0m \u001b[0mj\u001b[0m\u001b[0;34m)\u001b[0m\u001b[0;34m\u001b[0m\u001b[0;34m\u001b[0m\u001b[0m\n\u001b[0m",
      "\u001b[0;31mAssertionError\u001b[0m: "
     ]
    }
   ],
   "source": [
    "T = [[4, 1, 1000, 3], # on va \"rater\" le 1000\n",
    "     [2, 0, 2, 1],\n",
    "     [3, 1, 5, 1]]\n",
    "\n",
    "i, j = len(T), len(T[0])\n",
    "print(somme_max_glouton(T, i, j))\n",
    "assert  somme_max_glouton(T, i, j) == somme_max_dyn_opt(T, i, j)"
   ]
  },
  {
   "cell_type": "markdown",
   "metadata": {},
   "source": [
    "## Cas aléatoire avec un tableau assez grand :\n",
    "On compare la solution de l'algo glouton avec un algorithme où on navigue aléateoirement dans le tableau pour vérifier si l'algo glouton tend plutôt à donner une solution \"intéressante\"."
   ]
  },
  {
   "cell_type": "code",
   "execution_count": 19,
   "metadata": {},
   "outputs": [],
   "source": [
    "from random import choice\n",
    "def pile_ou_face():\n",
    "    \"\"\" Une fonction de pile ou face à moitié inutile mais qui m'amuse... \"\"\"\n",
    "    return choice(['Pile', 'Face'])"
   ]
  },
  {
   "cell_type": "code",
   "execution_count": 20,
   "metadata": {},
   "outputs": [],
   "source": [
    "def somme_alea(T, i, j):\n",
    "    s = T[0][0]\n",
    "    m, n = 0, 0\n",
    "    while (n != len(T) - 1) or (m != len(T[0]) - 1):\n",
    "        if m == len(T[0]) - 1:\n",
    "            n += 1\n",
    "        elif n == len(T) - 1:\n",
    "            m += 1\n",
    "        else:\n",
    "            if pile_ou_face() == 'Pile':\n",
    "                n += 1\n",
    "            else:\n",
    "                m += 1\n",
    "        s += T[n][m]\n",
    "    return s"
   ]
  },
  {
   "cell_type": "markdown",
   "metadata": {},
   "source": [
    "### Tableau de 1000 lignes et 1000 colonnes :\n",
    "On constate que l'algo glouton apporte quand même un intérêt par raport à la marche aléatoire, mais il n'atteint pas la solution optimale."
   ]
  },
  {
   "cell_type": "code",
   "execution_count": 21,
   "metadata": {},
   "outputs": [
    {
     "name": "stdout",
     "output_type": "stream",
     "text": [
      "9918\n",
      "12699\n",
      "14374\n"
     ]
    }
   ],
   "source": [
    "i, j = 1000, 1000\n",
    "T = [[randint(1, 9) for _ in range(j)] for _ in range(i)]\n",
    "    \n",
    "print(somme_alea(T, i, j))\n",
    "print(somme_max_glouton(T, i, j))\n",
    "print(somme_max_dyn_opt(T, i, j))"
   ]
  },
  {
   "cell_type": "code",
   "execution_count": null,
   "metadata": {},
   "outputs": [],
   "source": []
  },
  {
   "cell_type": "code",
   "execution_count": null,
   "metadata": {},
   "outputs": [],
   "source": []
  }
 ],
 "metadata": {
  "kernelspec": {
   "display_name": "Python 3.8.1 64-bit ('python38': conda)",
   "language": "python",
   "name": "python38164bitpython38conda56991d5ad1414e06a4dcd344400cf456"
  },
  "language_info": {
   "codemirror_mode": {
    "name": "ipython",
    "version": 3
   },
   "file_extension": ".py",
   "mimetype": "text/x-python",
   "name": "python",
   "nbconvert_exporter": "python",
   "pygments_lexer": "ipython3",
   "version": "3.8.1"
  }
 },
 "nbformat": 4,
 "nbformat_minor": 4
}
