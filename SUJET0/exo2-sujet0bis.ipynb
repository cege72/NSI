{
 "cells": [
  {
   "cell_type": "markdown",
   "metadata": {},
   "source": [
    "# Programmation dynamique et mémoïsation"
   ]
  },
  {
   "cell_type": "markdown",
   "metadata": {},
   "source": [
    "# 1. Problème du sujet 0 : \n",
    "Trouver la somme maximum qu'on peut atteindre en traversant les cellules d'un tableau d'entiers à 2 dimensions en n'autorisant que des déplacements vers la droite ou vers le bas. La cellule de départ est le coin supérieur gauche, et la cellule d'arrivée est le coin inférieur droit."
   ]
  },
  {
   "cell_type": "code",
   "execution_count": null,
   "metadata": {},
   "outputs": [],
   "source": [
    "T = [[4, 1, 1, 3],\n",
    "     [2, 0, 2, 1],\n",
    "     [3, 1, 5, 1]]"
   ]
  },
  {
   "cell_type": "markdown",
   "metadata": {},
   "source": [
    "Parcours idéal de l'exemple : 4 - 2 - 3 - 1 - 5 - 1 : somme = 16"
   ]
  },
  {
   "cell_type": "markdown",
   "metadata": {},
   "source": [
    "## Solution récursive :\n",
    "Solution récurisve naive telle que proposée dans le sujet 0 de NSI."
   ]
  },
  {
   "cell_type": "code",
   "execution_count": null,
   "metadata": {},
   "outputs": [],
   "source": [
    "def somme_max(T, i, j):\n",
    "    if i == j == 0:\n",
    "        return T[i][j]\n",
    "    elif i == 0:\n",
    "        return T[0][j] + somme_max(T, 0, j-1)\n",
    "    elif j == 0:\n",
    "        return T[i][0] + somme_max(T, i-1, 0)\n",
    "    else:\n",
    "        return T[i][j] + max(somme_max(T, i-1, j), somme_max(T, i, j-1))"
   ]
  },
  {
   "cell_type": "code",
   "execution_count": null,
   "metadata": {},
   "outputs": [],
   "source": [
    "somme_max(T, 2, 3)"
   ]
  },
  {
   "cell_type": "markdown",
   "metadata": {},
   "source": [
    "**Problème** : on *re-calcule beaucoup de choses* ! **Très lourd en mémoire et la pile de récursion risque vite d'exploser**."
   ]
  },
  {
   "cell_type": "markdown",
   "metadata": {},
   "source": [
    "## Approche récursive avec mémoïsation (bottom-down)\n",
    "L'idée est de **stocker dans un tableau annexe toutes les valeurs déjà calculées** une fois pour ne pas recommencer !\n",
    "\n",
    "**On conserve l'approche descendante de la récursivité** : la solution globale fait appel au fur et à mesure au solutions des sous-problèmes (en vérifiant si une valeur n'a pas déjà été mémorisée avant de se lancer dans le calcul récursif)."
   ]
  },
  {
   "cell_type": "code",
   "execution_count": 4,
   "metadata": {},
   "outputs": [],
   "source": [
    "def somme_max_memo(T, i, j):\n",
    "    def sm(T, i, j):\n",
    "        if memoire[i][j] is not None:\n",
    "            return memoire[i][j]\n",
    "        elif i == 0:\n",
    "            memoire[0][j] = T[0][j] + sm(T, 0, j-1)\n",
    "        elif j == 0:\n",
    "            memoire[i][0] = T[i][0] + sm(T, i-1, 0)\n",
    "        else:\n",
    "            gauche, haut = sm(T, i, j-1), sm(T, i-1, j)\n",
    "            memoire[i][j] = T[i][j] + max(gauche, haut)\n",
    "        return memoire[i][j]\n",
    "   \n",
    "    memoire = [[None for _ in range(len(T[0]))] for _ in range(len(T))]\n",
    "    memoire[0][0] =  T[0][0]\n",
    "    return sm(T, i, j)"
   ]
  },
  {
   "cell_type": "code",
   "execution_count": 5,
   "metadata": {},
   "outputs": [
    {
     "data": {
      "text/plain": [
       "16"
      ]
     },
     "execution_count": 5,
     "metadata": {},
     "output_type": "execute_result"
    }
   ],
   "source": [
    "somme_max_memo(T, 2, 3)"
   ]
  },
  {
   "cell_type": "markdown",
   "metadata": {},
   "source": [
    "## Approche par la programmation dynamique\n",
    "L'**approche ascendante de la programmation dynamique** consiste à construire **de façon itérative** les **solutions des sous-problèmes** pour atteindre la solution globale qui combine ces sous-problèmes."
   ]
  },
  {
   "cell_type": "code",
   "execution_count": 6,
   "metadata": {},
   "outputs": [],
   "source": [
    "def somme_max_dyn(T, i, j):    \n",
    "    memoire = [[T[i][j] for j in range(len(T[0]))] for i in range(len(T))]\n",
    "    for j in range(1, len(T[0])):\n",
    "        memoire[0][j] = T[0][j] + memoire[0][j-1]\n",
    "    for i in range(1, len(T)):\n",
    "        memoire[i][0] = T[i][0] + memoire[i-1][0]\n",
    "    for i in range(1, len(T)):\n",
    "        for j in range(1, len(T[0])):\n",
    "            memoire[i][j] = T[i][j] + max(memoire[i-1][j], memoire[i][j-1])\n",
    "    return memoire[i][j]"
   ]
  },
  {
   "cell_type": "code",
   "execution_count": 7,
   "metadata": {},
   "outputs": [
    {
     "data": {
      "text/plain": [
       "16"
      ]
     },
     "execution_count": 7,
     "metadata": {},
     "output_type": "execute_result"
    }
   ],
   "source": [
    "somme_max_dyn(T, 2, 3)"
   ]
  },
  {
   "cell_type": "markdown",
   "metadata": {},
   "source": [
    "## Simplification possible : optimisation de la mémoire\n",
    "Il est possible de ne conserver la mémoire que d'une ligne à la fois."
   ]
  },
  {
   "cell_type": "code",
   "execution_count": 8,
   "metadata": {},
   "outputs": [],
   "source": [
    "def somme_max_dyn_opt(T, i, j):    \n",
    "    ligne = [T[0][j] for j in range(len(T[0]))]\n",
    "    for j in range(1, len(T[0])):\n",
    "        ligne[j] = T[0][j] + ligne[j-1]\n",
    "    for i in range(1, len(T)):\n",
    "        ligne[0] = ligne[0] + T[i][0]\n",
    "        for j in range(1, len(T[0])):\n",
    "            ligne[j] = T[i][j] + max(ligne[j-1], ligne[j])\n",
    "    return ligne[-1]"
   ]
  },
  {
   "cell_type": "code",
   "execution_count": 9,
   "metadata": {},
   "outputs": [
    {
     "data": {
      "text/plain": [
       "16"
      ]
     },
     "execution_count": 9,
     "metadata": {},
     "output_type": "execute_result"
    }
   ],
   "source": [
    "somme_max_dyn_opt(T, 2, 3)"
   ]
  },
  {
   "cell_type": "markdown",
   "metadata": {},
   "source": [
    "# Voir la durée pour un tableau plus grand.\n",
    "On propose un tableau de 10 lignes et 20 colonnes, de nombre aléaoires entre 1 et 9."
   ]
  },
  {
   "cell_type": "code",
   "execution_count": 10,
   "metadata": {},
   "outputs": [],
   "source": [
    "from random import randint"
   ]
  },
  {
   "cell_type": "code",
   "execution_count": 11,
   "metadata": {},
   "outputs": [
    {
     "name": "stdout",
     "output_type": "stream",
     "text": [
      "4  5  5  5  8  4  4  9  3  1  5  7  6  9  3  5  9  5  9  8  \n",
      "9  7  2  5  5  7  4  3  3  5  2  3  7  9  3  4  5  5  3  4  \n",
      "3  4  6  1  9  2  7  8  5  3  7  5  2  7  4  1  2  6  1  8  \n",
      "5  4  9  2  6  2  8  8  6  1  7  9  4  2  2  3  7  1  5  4  \n",
      "1  6  2  9  9  3  5  3  2  2  7  1  3  8  1  6  8  8  8  7  \n",
      "8  7  7  6  1  2  9  1  6  6  3  1  4  1  7  9  1  2  8  1  \n",
      "1  7  4  3  6  6  9  8  4  5  8  4  7  3  7  7  5  3  9  1  \n",
      "3  1  7  9  6  1  1  2  4  2  3  6  5  1  8  1  6  2  1  5  \n",
      "6  5  4  3  3  4  8  1  9  7  6  9  4  2  3  2  6  2  3  2  \n",
      "6  3  7  8  6  8  6  7  7  3  5  7  2  2  7  8  5  8  3  1  \n"
     ]
    }
   ],
   "source": [
    "i, j = 10, 20\n",
    "T = [[randint(1, 9) for _ in range(j)] for _ in range(i)]\n",
    "\n",
    "for n in range(len(T)):\n",
    "    for m in range(len(T[0])):\n",
    "        print(T[n][m], end = '  ')\n",
    "    print()"
   ]
  },
  {
   "cell_type": "code",
   "execution_count": 12,
   "metadata": {},
   "outputs": [
    {
     "data": {
      "text/plain": [
       "175"
      ]
     },
     "execution_count": 12,
     "metadata": {},
     "output_type": "execute_result"
    }
   ],
   "source": [
    "somme_max_dyn(T, i-1, j-1)"
   ]
  },
  {
   "cell_type": "code",
   "execution_count": 13,
   "metadata": {},
   "outputs": [
    {
     "data": {
      "text/plain": [
       "175"
      ]
     },
     "execution_count": 13,
     "metadata": {},
     "output_type": "execute_result"
    }
   ],
   "source": [
    "somme_max_dyn_opt(T, i-1, j-1)"
   ]
  },
  {
   "cell_type": "code",
   "execution_count": 14,
   "metadata": {},
   "outputs": [
    {
     "data": {
      "text/plain": [
       "175"
      ]
     },
     "execution_count": 14,
     "metadata": {},
     "output_type": "execute_result"
    }
   ],
   "source": [
    "somme_max_memo(T, i-1, j-1)"
   ]
  },
  {
   "cell_type": "code",
   "execution_count": 15,
   "metadata": {},
   "outputs": [
    {
     "data": {
      "text/plain": [
       "175"
      ]
     },
     "execution_count": 15,
     "metadata": {},
     "output_type": "execute_result"
    }
   ],
   "source": [
    "somme_max(T, i-1, j-1) # on sent passer le temps..."
   ]
  },
  {
   "cell_type": "markdown",
   "metadata": {},
   "source": [
    "# Complément : Algo glouton\n",
    "On propose une solution par algorithme glouton : pas forcément optimale !\n",
    "Le critère local d'optimisation retenu est de s'orienter vers la cellule la plus \"grosse\" à chaque carrefour."
   ]
  },
  {
   "cell_type": "code",
   "execution_count": 29,
   "metadata": {},
   "outputs": [],
   "source": [
    "def somme_max_glouton(T, i, j):\n",
    "    s = T[0][0]\n",
    "    n, m = 0, 0\n",
    "    while (n != len(T) - 1) or (m != len(T[0]) - 1):\n",
    "        if m == len(T[0]) - 1:\n",
    "            n += 1\n",
    "        elif n == len(T) - 1:\n",
    "            m += 1\n",
    "        elif T[n][m+1] > T[n+1][m]:\n",
    "            m += 1\n",
    "        else:\n",
    "            n += 1\n",
    "        s += T[n][m]\n",
    "    return s"
   ]
  },
  {
   "cell_type": "markdown",
   "metadata": {},
   "source": [
    "## Cas où l'algo glouton fonctionne (coup de bol !)"
   ]
  },
  {
   "cell_type": "code",
   "execution_count": 30,
   "metadata": {},
   "outputs": [
    {
     "name": "stdout",
     "output_type": "stream",
     "text": [
      "glouton : 16\n",
      "solution optimale : 16\n"
     ]
    }
   ],
   "source": [
    "T = [[4, 1, 1, 3],\n",
    "     [2, 0, 2, 1],\n",
    "     [3, 1, 5, 1]]\n",
    "\n",
    "i, j = len(T), len(T[0])\n",
    "print('glouton :', somme_max_glouton(T, i-1, j-1))\n",
    "print('solution optimale :', somme_max_dyn_opt(T, i-1, j-1))"
   ]
  },
  {
   "cell_type": "markdown",
   "metadata": {},
   "source": [
    "## Cas où l'algo glouton ne fonctionne pas (ben c'est pas étonnant qu'il y ait des échecs...)"
   ]
  },
  {
   "cell_type": "code",
   "execution_count": 31,
   "metadata": {},
   "outputs": [
    {
     "name": "stdout",
     "output_type": "stream",
     "text": [
      "glouton : 16\n",
      "solution optimale : 1013\n"
     ]
    }
   ],
   "source": [
    "T = [[4, 1, 1000, 3], # on va \"rater\" le 1000\n",
    "     [2, 0, 2, 1],\n",
    "     [3, 1, 5, 1]]\n",
    "\n",
    "i, j = len(T), len(T[0])\n",
    "print('glouton :', somme_max_glouton(T, i-1, j-1))\n",
    "print('solution optimale :', somme_max_dyn_opt(T, i-1, j-1))"
   ]
  },
  {
   "cell_type": "markdown",
   "metadata": {},
   "source": [
    "## Cas aléatoire avec un tableau assez grand :\n",
    "On compare la solution de l'algo glouton avec un algorithme où on navigue aléateoirement dans le tableau pour vérifier si l'algo glouton tend plutôt à donner une solution \"intéressante\"."
   ]
  },
  {
   "cell_type": "code",
   "execution_count": 32,
   "metadata": {},
   "outputs": [],
   "source": [
    "from random import choice\n",
    "def pile_ou_face():\n",
    "    \"\"\" Une fonction de pile ou face à moitié inutile mais qui m'amuse... \"\"\"\n",
    "    return choice(['Pile', 'Face'])"
   ]
  },
  {
   "cell_type": "code",
   "execution_count": 33,
   "metadata": {},
   "outputs": [],
   "source": [
    "def somme_alea(T, i, j):\n",
    "    s = T[0][0]\n",
    "    n, m = 0, 0\n",
    "    while (n != len(T) - 1) or (m != len(T[0]) - 1):\n",
    "        if m == len(T[0]) - 1:\n",
    "            n += 1\n",
    "        elif n == len(T) - 1:\n",
    "            m += 1\n",
    "        else:\n",
    "            if pile_ou_face() == 'Pile':\n",
    "                n += 1\n",
    "            else:\n",
    "                m += 1\n",
    "        s += T[n][m]\n",
    "    return s"
   ]
  },
  {
   "cell_type": "markdown",
   "metadata": {},
   "source": [
    "### Tableau de 1000 lignes et 1000 colonnes :\n",
    "On constate que l'algo glouton apporte quand même un intérêt par raport à la marche aléatoire, mais il n'atteint pas la solution optimale."
   ]
  },
  {
   "cell_type": "code",
   "execution_count": 34,
   "metadata": {},
   "outputs": [
    {
     "name": "stdout",
     "output_type": "stream",
     "text": [
      "9837\n",
      "12480\n",
      "14321\n",
      "14321\n"
     ]
    }
   ],
   "source": [
    "i, j = 1000, 1000\n",
    "T = [[randint(1, 9) for _ in range(j)] for _ in range(i)]\n",
    "    \n",
    "print(somme_alea(T, i-1, j-1))\n",
    "print(somme_max_glouton(T, i-1, j-1))\n",
    "print(somme_max_dyn_opt(T, i-1, j-1))\n",
    "print(somme_max_memo(T, i-1, j-1))"
   ]
  },
  {
   "cell_type": "code",
   "execution_count": 35,
   "metadata": {},
   "outputs": [
    {
     "name": "stdout",
     "output_type": "stream",
     "text": [
      "300 ms ± 14 ms per loop (mean ± std. dev. of 7 runs, 1 loop each)\n"
     ]
    }
   ],
   "source": [
    "%timeit somme_max_dyn_opt(T, i-1, j-1)"
   ]
  },
  {
   "cell_type": "code",
   "execution_count": 23,
   "metadata": {},
   "outputs": [
    {
     "name": "stdout",
     "output_type": "stream",
     "text": [
      "431 ms ± 746 µs per loop (mean ± std. dev. of 7 runs, 1 loop each)\n"
     ]
    }
   ],
   "source": [
    "%timeit somme_max_dyn(T, i-1, j-1)"
   ]
  },
  {
   "cell_type": "code",
   "execution_count": 24,
   "metadata": {},
   "outputs": [
    {
     "name": "stdout",
     "output_type": "stream",
     "text": [
      "673 ms ± 3.86 ms per loop (mean ± std. dev. of 7 runs, 1 loop each)\n"
     ]
    }
   ],
   "source": [
    "%timeit somme_max_memo(T, i-1, j-1)"
   ]
  },
  {
   "cell_type": "markdown",
   "metadata": {},
   "source": [
    "# Recherche du chemin\n",
    "On s'appuie sur l'algo dynamique (sans optimiser la mémoire)"
   ]
  },
  {
   "cell_type": "code",
   "execution_count": 53,
   "metadata": {},
   "outputs": [],
   "source": [
    "def chemin_max_dyn(T, i, j):    \n",
    "    memoire = [[T[i][j] for j in range(len(T[0]))] for i in range(len(T))]\n",
    "    chemin = [(0, 0)]\n",
    "    for j in range(1, len(T[0])):\n",
    "        memoire[0][j] = T[0][j] + memoire[0][j-1]\n",
    "    for i in range(1, len(T)):\n",
    "        memoire[i][0] = T[i][0] + memoire[i-1][0]\n",
    "    for i in range(1, len(T)):\n",
    "        for j in range(1, len(T[0])):\n",
    "            memoire[i][j] = T[i][j] + max(memoire[i-1][j], memoire[i][j-1])\n",
    "            \n",
    "            \n",
    "    n, m = len(memoire) - 1, len(memoire[0]) - 1\n",
    "    cellules = [(n, m)]\n",
    "    nombres = [T[n][m]]\n",
    "    sommes = [memoire[n][m]]\n",
    "    while (n != 0) or (m != 0):\n",
    "        if m == 0:\n",
    "            n -= 1\n",
    "        elif n == 0:\n",
    "            m -= 1\n",
    "        elif memoire[n][m-1] > memoire[n-1][m]:\n",
    "            m -= 1\n",
    "        else:\n",
    "            n -= 1\n",
    "        cellules.insert(0, (n, m))\n",
    "        sommes.insert(0, memoire[n][m])\n",
    "        nombres.insert(0, T[n][m])\n",
    "        \n",
    "    return cellules, nombres, sommes"
   ]
  },
  {
   "cell_type": "code",
   "execution_count": 54,
   "metadata": {},
   "outputs": [
    {
     "data": {
      "text/plain": [
       "([(0, 0), (1, 0), (2, 0), (2, 1), (2, 2), (2, 3)],\n",
       " [4, 2, 3, 1, 5, 1],\n",
       " [4, 6, 9, 10, 15, 16])"
      ]
     },
     "execution_count": 54,
     "metadata": {},
     "output_type": "execute_result"
    }
   ],
   "source": [
    "T = [[4, 1, 1, 3],\n",
    "     [2, 0, 2, 1],\n",
    "     [3, 1, 5, 1]]\n",
    "\n",
    "chemin_max_dyn(T, 2, 3)"
   ]
  },
  {
   "cell_type": "code",
   "execution_count": 107,
   "metadata": {},
   "outputs": [
    {
     "name": "stdout",
     "output_type": "stream",
     "text": [
      "-16   71   44  -67  -72   58  -95   -6  -31  -21   6    13  -10   43   20  -94  -89   8    37  -12  \n",
      "-70   48   58   94   34  -14   34   45   91   53   39   23  -35  -56   30   83  -68  -17  -30   95  \n",
      "-78  -56  -45   37   33   72   95   5    25   42   90   50   13  -34  -28   53  -83   33  -19  -37  \n",
      " 25  -58  -39   75   29   39  -19  -80   49   66   8    11   -8  -78  -94   62  -13  -59   34   96  \n",
      "-28  -47  -84   74   -7  -82  -33   65  -68   48   65   -4  -94  -95  -87  -13   76  -57  -57  -44  \n",
      "-91   13  -78  -69   -8   72   68   -1   38  -62   52  -37  -76   28  -22  -88  -99   45  -69   62  \n",
      "-69  -45   17   77  -89   30   48   73  -52  -69  -85   81  -57   90  -79   58   12  -50  -52  -78  \n",
      "-20   78  -97  -83  -29  -60   14  -81  -34  -62  -71  -58   7   -44  -87   56  -18   14   90  -12  \n",
      "-46  -12   57  -51  -75  -55   79  -94  -70  -78  -30   29   21   20  -26  -33  -87   87  -78  -38  \n",
      " 82   5    92   37   32   37   47   81   40  -11  -40   97  -19   24   43  -56   0    65   0   -40  \n",
      " 43  -36  -55   36   73  -41  -99   37   59   47  -89  -43   38   72   34   30  -71  -61  -54   69  \n",
      " 59   87   -1  -48   71  -79  -30   39  -55   74  -37  -59  -80   69  -23   32  -16   -8  -61  -65  \n",
      "-85  -49  -32  -82   98   69  -78   74   -4  -82  -43  -36   5    71   9   -78   54   35  -67   23  \n",
      "-33   36   -6   67   85   61   51   74  -45   95   10  -11   76   3    72   88   84   90   28  -19  \n",
      "-46  -72  -55   -8   31   30  -43   33   16   34   16  -58   0    79  -28  -66  -34  -89  -83   25  \n",
      "-32   53   69   58  -89   42  -70  -61   11  -21   28   -7   45  -20   31   -9  -54  -41  -15  -12  \n",
      "-42   82   71  -64   67  -32  -60   48   95   -9   61   20  -23  -24   73   95   73   30   -8  -65  \n",
      "-81   -6  -41   97  -25   94   50   -3   42   23   61  -11  -85   28  -35  -60  -89   62  -73   8   \n",
      " 97   11   15   39  -43  -19  -78  -41  -91  -88  -52  -98  -32   33   41  -51   90  -59  -44  -93  \n",
      "-91  -39  -50  -94  -11   44  -76  -42  -12   37  -70   -8   98   2    49   -6   97   15   73  -14  \n",
      "\n",
      "-16   71  ____ ____ ____ ____ ____ ____ ____ ____ ____ ____ ____ ____ ____ ____ ____ ____ ____ ____ \n",
      "____  48   58   94  ____ ____ ____ ____ ____ ____ ____ ____ ____ ____ ____ ____ ____ ____ ____ ____ \n",
      "____ ____ ____  37  ____ ____ ____ ____ ____ ____ ____ ____ ____ ____ ____ ____ ____ ____ ____ ____ \n",
      "____ ____ ____  75  ____ ____ ____ ____ ____ ____ ____ ____ ____ ____ ____ ____ ____ ____ ____ ____ \n",
      "____ ____ ____  74   -7  ____ ____ ____ ____ ____ ____ ____ ____ ____ ____ ____ ____ ____ ____ ____ \n",
      "____ ____ ____ ____  -8   72   68  ____ ____ ____ ____ ____ ____ ____ ____ ____ ____ ____ ____ ____ \n",
      "____ ____ ____ ____ ____ ____  48  ____ ____ ____ ____ ____ ____ ____ ____ ____ ____ ____ ____ ____ \n",
      "____ ____ ____ ____ ____ ____  14  ____ ____ ____ ____ ____ ____ ____ ____ ____ ____ ____ ____ ____ \n",
      "____ ____ ____ ____ ____ ____  79  ____ ____ ____ ____ ____ ____ ____ ____ ____ ____ ____ ____ ____ \n",
      "____ ____ ____ ____ ____ ____  47   81  ____ ____ ____ ____ ____ ____ ____ ____ ____ ____ ____ ____ \n",
      "____ ____ ____ ____ ____ ____ ____  37  ____ ____ ____ ____ ____ ____ ____ ____ ____ ____ ____ ____ \n",
      "____ ____ ____ ____ ____ ____ ____  39  ____ ____ ____ ____ ____ ____ ____ ____ ____ ____ ____ ____ \n",
      "____ ____ ____ ____ ____ ____ ____  74  ____ ____ ____ ____ ____ ____ ____ ____ ____ ____ ____ ____ \n",
      "____ ____ ____ ____ ____ ____ ____  74  -45   95   10  -11   76   3   ____ ____ ____ ____ ____ ____ \n",
      "____ ____ ____ ____ ____ ____ ____ ____ ____ ____ ____ ____ ____  79  ____ ____ ____ ____ ____ ____ \n",
      "____ ____ ____ ____ ____ ____ ____ ____ ____ ____ ____ ____ ____ -20   31  ____ ____ ____ ____ ____ \n",
      "____ ____ ____ ____ ____ ____ ____ ____ ____ ____ ____ ____ ____ ____  73   95   73  ____ ____ ____ \n",
      "____ ____ ____ ____ ____ ____ ____ ____ ____ ____ ____ ____ ____ ____ ____ ____ -89  ____ ____ ____ \n",
      "____ ____ ____ ____ ____ ____ ____ ____ ____ ____ ____ ____ ____ ____ ____ ____  90  ____ ____ ____ \n",
      "____ ____ ____ ____ ____ ____ ____ ____ ____ ____ ____ ____ ____ ____ ____ ____  97   15   73  -14  \n",
      "\n",
      "-16   55  ____ ____ ____ ____ ____ ____ ____ ____ ____ ____ ____ ____ ____ ____ ____ ____ ____ ____ \n",
      "____ 103  161  255  ____ ____ ____ ____ ____ ____ ____ ____ ____ ____ ____ ____ ____ ____ ____ ____ \n",
      "____ ____ ____ 292  ____ ____ ____ ____ ____ ____ ____ ____ ____ ____ ____ ____ ____ ____ ____ ____ \n",
      "____ ____ ____ 367  ____ ____ ____ ____ ____ ____ ____ ____ ____ ____ ____ ____ ____ ____ ____ ____ \n",
      "____ ____ ____ 441  434  ____ ____ ____ ____ ____ ____ ____ ____ ____ ____ ____ ____ ____ ____ ____ \n",
      "____ ____ ____ ____ 426  498  566  ____ ____ ____ ____ ____ ____ ____ ____ ____ ____ ____ ____ ____ \n",
      "____ ____ ____ ____ ____ ____ 614  ____ ____ ____ ____ ____ ____ ____ ____ ____ ____ ____ ____ ____ \n",
      "____ ____ ____ ____ ____ ____ 628  ____ ____ ____ ____ ____ ____ ____ ____ ____ ____ ____ ____ ____ \n",
      "____ ____ ____ ____ ____ ____ 707  ____ ____ ____ ____ ____ ____ ____ ____ ____ ____ ____ ____ ____ \n",
      "____ ____ ____ ____ ____ ____ 754  835  ____ ____ ____ ____ ____ ____ ____ ____ ____ ____ ____ ____ \n",
      "____ ____ ____ ____ ____ ____ ____ 872  ____ ____ ____ ____ ____ ____ ____ ____ ____ ____ ____ ____ \n",
      "____ ____ ____ ____ ____ ____ ____ 911  ____ ____ ____ ____ ____ ____ ____ ____ ____ ____ ____ ____ \n",
      "____ ____ ____ ____ ____ ____ ____ 985  ____ ____ ____ ____ ____ ____ ____ ____ ____ ____ ____ ____ \n",
      "____ ____ ____ ____ ____ ____ ____ 1059 1014 1109 1119 1108 1184 1187 ____ ____ ____ ____ ____ ____ \n",
      "____ ____ ____ ____ ____ ____ ____ ____ ____ ____ ____ ____ ____ 1266 ____ ____ ____ ____ ____ ____ \n",
      "____ ____ ____ ____ ____ ____ ____ ____ ____ ____ ____ ____ ____ 1246 1277 ____ ____ ____ ____ ____ \n",
      "____ ____ ____ ____ ____ ____ ____ ____ ____ ____ ____ ____ ____ ____ 1350 1445 1518 ____ ____ ____ \n",
      "____ ____ ____ ____ ____ ____ ____ ____ ____ ____ ____ ____ ____ ____ ____ ____ 1429 ____ ____ ____ \n",
      "____ ____ ____ ____ ____ ____ ____ ____ ____ ____ ____ ____ ____ ____ ____ ____ 1519 ____ ____ ____ \n",
      "____ ____ ____ ____ ____ ____ ____ ____ ____ ____ ____ ____ ____ ____ ____ ____ 1616 1631 1704 1690 \n"
     ]
    }
   ],
   "source": [
    "i, j = 20, 20\n",
    "T = [[randint(-99, 99) for _ in range(j)] for _ in range(i)]\n",
    "\n",
    "for n in range(len(T)):\n",
    "    for m in range(len(T[0])):\n",
    "        print(str(T[n][m]).center(3), end = '  ')\n",
    "    print()\n",
    "    \n",
    "cellules, nombres, sommes = chemin_max_dyn(T, i-1, j-1) \n",
    "#print(cellules)\n",
    "#print(nombres)\n",
    "#print(sommes)\n",
    "\n",
    "print()\n",
    "cellules = set(cellules)\n",
    "for n in range(len(T)):\n",
    "    for m in range(len(T[0])):\n",
    "        if (n, m) in cellules:\n",
    "            print(str(T[n][m]).center(4, ' '), end = ' ')\n",
    "        else:\n",
    "            print('____', end = ' ')\n",
    "    print()\n",
    "\n",
    "print()\n",
    "k = 0\n",
    "for n in range(len(T)):\n",
    "    for m in range(len(T[0])):\n",
    "        if (n, m) in cellules:\n",
    "            print(str(sommes[k]).center(4, ' '), end = ' ')\n",
    "            k += 1\n",
    "        else:\n",
    "            print('____', end = ' ')\n",
    "    print()"
   ]
  },
  {
   "cell_type": "code",
   "execution_count": null,
   "metadata": {},
   "outputs": [],
   "source": []
  }
 ],
 "metadata": {
  "kernelspec": {
   "display_name": "Python 3.8.1 64-bit ('python38': conda)",
   "language": "python",
   "name": "python38164bitpython38conda56991d5ad1414e06a4dcd344400cf456"
  },
  "language_info": {
   "codemirror_mode": {
    "name": "ipython",
    "version": 3
   },
   "file_extension": ".py",
   "mimetype": "text/x-python",
   "name": "python",
   "nbconvert_exporter": "python",
   "pygments_lexer": "ipython3",
   "version": "3.8.1"
  }
 },
 "nbformat": 4,
 "nbformat_minor": 4
}
